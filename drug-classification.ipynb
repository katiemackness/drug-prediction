{
 "cells": [
  {
   "cell_type": "markdown",
   "id": "c6ed62bc",
   "metadata": {},
   "source": [
    "# Drug Classification - Comparison of Machine Learning Models\n",
    "Katlyn Goeujon-Mackness\n",
    "06/05/2026"
   ]
  },
  {
   "cell_type": "markdown",
   "id": "d24a1258",
   "metadata": {},
   "source": [
    "## Introduction\n",
    "# Drug Classification - Comparison of Machine Learning Models\n",
    "\n",
    "## Introduction\n",
    "\n",
    "In this project, we explore different machine learning algorithms to predict the most suitable drug for a patient based on various health indicators. Using classification techniques, we analyze how factors such as **age, blood pressure, cholesterol levels, and sodium-to-potassium ratio** influence drug recommendations.\n",
    "\n",
    "### Objectives:\n",
    "- Implement and compare multiple **classification models**.\n",
    "- Evaluate **performance metrics** to determine the most effective approach.\n",
    "- Utilize **data visualization** to interpret patterns in drug prescriptions.\n",
    "\n",
    "Through this analysis, we aim to optimize drug selection and provide **data-driven insights** into medication recommendations.\n",
    "\n",
    "### Classification Algorithms\n",
    "We will explore the following classification algorithms:\n",
    "- Logistic Regression\n",
    "- Decision Trees\n",
    "- Random Forest Classifer\n",
    "- K-Nearest Neighbors\n",
    "- AdaBoost and Gradient Boost Classifiers\n",
    "\n",
    "### Project Structure\n",
    "\n",
    "1. Data Exploration\n",
    "   - Loading the dataset\n",
    "   - Understanding data structure\n",
    "   - Handling missing values\n",
    "\n",
    "2. Data Preprocessing\n",
    "   - Encoding categorical variables\n",
    "   - Feature scaling and transformation\n",
    "   - Splitting dataset into train/test sets\n",
    "\n",
    "3. Exploratory Data Analysis (EDA)\n",
    "   - Visualizing distributions (histograms, box plots)\n",
    "   - Correlation analysis\n",
    "   - Insights from data\n",
    "\n",
    "4. Model Selection & Training\n",
    "   - Choosing classification models (e.g., Logistic Regression, Decision Trees, Random Forests)\n",
    "   - Implementing machine learning algorithms\n",
    "   - Performance evaluation metrics\n",
    "\n",
    "5. Model Comparison\n",
    "   - Comparing accuracy, precision, recall, and F1-score\n",
    "   - Hyperparameter tuning (Grid Search, Random Search)\n",
    "   - Feature importance analysis\n",
    "\n",
    "6. Conclusion\n",
    "   - Best-performing model summary\n",
    "   - Potential improvements\n",
    "   - Future applications of drug classification"
   ]
  },
  {
   "cell_type": "markdown",
   "id": "f79545a3",
   "metadata": {},
   "source": [
    "## Data Exploration\n",
    "- Loading the dataset\n",
    "- Understanding data structure\n",
    "- Handling missing values"
   ]
  },
  {
   "cell_type": "markdown",
   "id": "9b848914",
   "metadata": {},
   "source": [
    "## Data Preprocessing\n",
    "   - Encoding categorical variables\n",
    "   - Feature scaling and transformation\n",
    "   - Splitting dataset into train/test sets"
   ]
  },
  {
   "cell_type": "markdown",
   "id": "55fcc316",
   "metadata": {},
   "source": [
    "## Exploratory Data Analysis (EDA)\n",
    "- Visualizing distributions (histograms, box plots)\n",
    "- Correlation analysis\n",
    "- Insights from data"
   ]
  },
  {
   "cell_type": "markdown",
   "id": "a5d5e8ae",
   "metadata": {},
   "source": [
    "## Model Selection & Training\n",
    "- Choosing classification models (e.g., Logistic Regression, Decision Trees, Random Forests)\n",
    "- Implementing machine learning algorithms\n",
    "- Performance evaluation metrics"
   ]
  },
  {
   "cell_type": "markdown",
   "id": "a3472c3c",
   "metadata": {},
   "source": [
    "## Model Comparison\n",
    "- Comparing accuracy, precision, recall, and F1-score\n",
    "- Hyperparameter tuning (Grid Search, Random Search)\n",
    "- Feature importance analysis"
   ]
  },
  {
   "cell_type": "markdown",
   "id": "c0a88b9a",
   "metadata": {},
   "source": [
    "## Conclusion\n",
    "- Best-performing model summary\n",
    "- Potential improvements\n",
    "- Future applications of drug classification"
   ]
  },
  {
   "cell_type": "markdown",
   "id": "78a0930c",
   "metadata": {},
   "source": []
  }
 ],
 "metadata": {
  "language_info": {
   "name": "python"
  }
 },
 "nbformat": 4,
 "nbformat_minor": 5
}
